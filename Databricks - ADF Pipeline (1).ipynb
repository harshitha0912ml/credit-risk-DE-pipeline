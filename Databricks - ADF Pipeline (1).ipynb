{
 "cells": [
  {
   "cell_type": "code",
   "execution_count": 0,
   "metadata": {
    "application/vnd.databricks.v1+cell": {
     "cellMetadata": {
      "byteLimit": 2048000,
      "rowLimit": 10000
     },
     "inputWidgets": {},
     "nuid": "18a8c1fa-a039-4334-a493-a24aad707411",
     "showTitle": false,
     "tableResultSettingsMap": {},
     "title": ""
    }
   },
   "outputs": [
    {
     "output_type": "display_data",
     "data": {
      "text/html": [
       "<style scoped>\n",
       "  .table-result-container {\n",
       "    max-height: 300px;\n",
       "    overflow: auto;\n",
       "  }\n",
       "  table, th, td {\n",
       "    border: 1px solid black;\n",
       "    border-collapse: collapse;\n",
       "  }\n",
       "  th, td {\n",
       "    padding: 5px;\n",
       "  }\n",
       "  th {\n",
       "    text-align: left;\n",
       "  }\n",
       "</style><div class='table-result-container'><table class='table-result'><thead style='background-color: white'><tr><th>path</th><th>name</th><th>size</th><th>modificationTime</th></tr></thead><tbody><tr><td>dbfs:/mnt/creditcard1/credit_raw_data/</td><td>credit_raw_data/</td><td>0</td><td>1750330314000</td></tr><tr><td>dbfs:/mnt/creditcard1/credit_transformed_data/</td><td>credit_transformed_data/</td><td>0</td><td>1750330337000</td></tr><tr><td>dbfs:/mnt/creditcard1/tf-data/</td><td>tf-data/</td><td>0</td><td>1750406426000</td></tr></tbody></table></div>"
      ]
     },
     "metadata": {
      "application/vnd.databricks.v1+output": {
       "addedWidgets": {},
       "aggData": [],
       "aggError": "",
       "aggOverflow": false,
       "aggSchema": [],
       "aggSeriesLimitReached": false,
       "aggType": "",
       "arguments": {},
       "columnCustomDisplayInfos": {},
       "data": [
        [
         "dbfs:/mnt/creditcard1/credit_raw_data/",
         "credit_raw_data/",
         0,
         1750330314000
        ],
        [
         "dbfs:/mnt/creditcard1/credit_transformed_data/",
         "credit_transformed_data/",
         0,
         1750330337000
        ],
        [
         "dbfs:/mnt/creditcard1/tf-data/",
         "tf-data/",
         0,
         1750406426000
        ]
       ],
       "datasetInfos": [],
       "dbfsResultPath": null,
       "isJsonSchema": true,
       "metadata": {
        "isDbfsCommandResult": false
       },
       "overflow": false,
       "plotOptions": {
        "customPlotOptions": {},
        "displayType": "table",
        "pivotAggregation": null,
        "pivotColumns": null,
        "xColumns": null,
        "yColumns": null
       },
       "removedWidgets": [],
       "schema": [
        {
         "metadata": "{}",
         "name": "path",
         "type": "\"string\""
        },
        {
         "metadata": "{}",
         "name": "name",
         "type": "\"string\""
        },
        {
         "metadata": "{}",
         "name": "size",
         "type": "\"long\""
        },
        {
         "metadata": "{}",
         "name": "modificationTime",
         "type": "\"long\""
        }
       ],
       "type": "table"
      }
     },
     "output_type": "display_data"
    }
   ],
   "source": [
    "%fs\n",
    "ls \"/mnt/creditcard1\""
   ]
  },
  {
   "cell_type": "code",
   "execution_count": 0,
   "metadata": {
    "application/vnd.databricks.v1+cell": {
     "cellMetadata": {
      "byteLimit": 2048000,
      "rowLimit": 10000
     },
     "inputWidgets": {},
     "nuid": "5d101e82-c134-4962-bcc2-7bae9cc4dc70",
     "showTitle": false,
     "tableResultSettingsMap": {},
     "title": ""
    }
   },
   "outputs": [
    {
     "output_type": "display_data",
     "data": {
      "text/html": [
       "<style scoped>\n",
       "  .table-result-container {\n",
       "    max-height: 300px;\n",
       "    overflow: auto;\n",
       "  }\n",
       "  table, th, td {\n",
       "    border: 1px solid black;\n",
       "    border-collapse: collapse;\n",
       "  }\n",
       "  th, td {\n",
       "    padding: 5px;\n",
       "  }\n",
       "  th {\n",
       "    text-align: left;\n",
       "  }\n",
       "</style><div class='table-result-container'><table class='table-result'><thead style='background-color: white'><tr><th>path</th><th>name</th><th>size</th><th>modificationTime</th></tr></thead><tbody><tr><td>dbfs:/mnt/creditcard1/credit_raw_data/credit_raw_data.csv</td><td>credit_raw_data.csv</td><td>4338154</td><td>1750333127000</td></tr></tbody></table></div>"
      ]
     },
     "metadata": {
      "application/vnd.databricks.v1+output": {
       "addedWidgets": {},
       "aggData": [],
       "aggError": "",
       "aggOverflow": false,
       "aggSchema": [],
       "aggSeriesLimitReached": false,
       "aggType": "",
       "arguments": {},
       "columnCustomDisplayInfos": {},
       "data": [
        [
         "dbfs:/mnt/creditcard1/credit_raw_data/credit_raw_data.csv",
         "credit_raw_data.csv",
         4338154,
         1750333127000
        ]
       ],
       "datasetInfos": [],
       "dbfsResultPath": null,
       "isJsonSchema": true,
       "metadata": {
        "isDbfsCommandResult": false
       },
       "overflow": false,
       "plotOptions": {
        "customPlotOptions": {},
        "displayType": "table",
        "pivotAggregation": null,
        "pivotColumns": null,
        "xColumns": null,
        "yColumns": null
       },
       "removedWidgets": [],
       "schema": [
        {
         "metadata": "{}",
         "name": "path",
         "type": "\"string\""
        },
        {
         "metadata": "{}",
         "name": "name",
         "type": "\"string\""
        },
        {
         "metadata": "{}",
         "name": "size",
         "type": "\"long\""
        },
        {
         "metadata": "{}",
         "name": "modificationTime",
         "type": "\"long\""
        }
       ],
       "type": "table"
      }
     },
     "output_type": "display_data"
    }
   ],
   "source": [
    "%fs\n",
    "ls \"dbfs:/mnt/creditcard1/credit_raw_data/\""
   ]
  },
  {
   "cell_type": "code",
   "execution_count": 0,
   "metadata": {
    "application/vnd.databricks.v1+cell": {
     "cellMetadata": {
      "byteLimit": 2048000,
      "rowLimit": 10000
     },
     "inputWidgets": {},
     "nuid": "7bc67eb7-515e-45c7-a4dc-b8b363fa4fba",
     "showTitle": false,
     "tableResultSettingsMap": {},
     "title": ""
    }
   },
   "outputs": [],
   "source": [
    "credit = spark.read.csv(\"dbfs:/mnt/creditcard1/credit_raw_data/credit_raw_data.csv\", header=True)"
   ]
  },
  {
   "cell_type": "code",
   "execution_count": 0,
   "metadata": {
    "application/vnd.databricks.v1+cell": {
     "cellMetadata": {
      "byteLimit": 2048000,
      "rowLimit": 10000
     },
     "inputWidgets": {},
     "nuid": "289db8fe-246a-4f0d-959f-c9073a0d5fed",
     "showTitle": false,
     "tableResultSettingsMap": {},
     "title": ""
    }
   },
   "outputs": [
    {
     "output_type": "stream",
     "name": "stdout",
     "output_type": "stream",
     "text": [
      "+---+---------+---+---------+--------+---+-----+-----+-----+-----+-----+-----+---------+---------+---------+---------+---------+---------+--------+--------+--------+--------+--------+--------+--------------------------+\n| ID|LIMIT_BAL|SEX|EDUCATION|MARRIAGE|AGE|PAY_0|PAY_2|PAY_3|PAY_4|PAY_5|PAY_6|BILL_AMT1|BILL_AMT2|BILL_AMT3|BILL_AMT4|BILL_AMT5|BILL_AMT6|PAY_AMT1|PAY_AMT2|PAY_AMT3|PAY_AMT4|PAY_AMT5|PAY_AMT6|default payment next month|\n+---+---------+---+---------+--------+---+-----+-----+-----+-----+-----+-----+---------+---------+---------+---------+---------+---------+--------+--------+--------+--------+--------+--------+--------------------------+\n|  1|    20000|  2|        2|       1| 24|    2|    2|    0|    0|    0|    0|     3913|     3102|      689|        0|        0|        0|       0|     689|       0|       0|       0|       0|                         1|\n|  2|   120000|  2|        2|       2| 26|    0|    2|    0|    0|    0|    2|     2682|     1725|     2682|     3272|     3455|     3261|       0|    1000|    1000|    1000|       0|    2000|                         1|\n|  3|    90000|  2|        2|       2| 34|    0|    0|    0|    0|    0|    0|    29239|    14027|    13559|    14331|    14948|    15549|    1518|    1500|    1000|    1000|    1000|    5000|                         0|\n|  4|    50000|  2|        2|       1| 37|    0|    0|    0|    0|    0|    0|    46990|    48233|    49291|    28314|    28959|    29547|    2000|    2019|    1200|    1100|    1069|    1000|                         0|\n|  5|    50000|  1|        2|       1| 57|    0|    0|    0|    0|    0|    0|     8617|     5670|    35835|    20940|    19146|    19131|    2000|   36681|   10000|    9000|     689|     679|                         0|\n|  6|    50000|  1|        1|       2| 37|    0|    0|    0|    0|    0|    0|    64400|    57069|    57608|    19394|    19619|    20024|    2500|    1815|     657|    1000|    1000|     800|                         0|\n|  7|   500000|  1|        1|       2| 29|    0|    0|    0|    0|    0|    0|   367965|   412023|   445007|   542653|   483003|   473944|   55000|   40000|   38000|   20239|   13750|   13770|                         0|\n|  8|   100000|  2|        2|       2| 23|    0|    0|    0|    0|    0|    0|    11876|      380|      601|      221|     -159|      567|     380|     601|       0|     581|    1687|    1542|                         0|\n|  9|   140000|  2|        3|       1| 28|    0|    0|    2|    0|    0|    0|    11285|    14096|    12108|    12211|    11793|     3719|    3329|       0|     432|    1000|    1000|    1000|                         0|\n| 10|    20000|  1|        3|       2| 35|    0|    0|    0|    0|    0|    0|        0|        0|        0|        0|    13007|    13912|       0|       0|       0|   13007|    1122|       0|                         0|\n| 11|   200000|  2|        3|       2| 34|    0|    0|    2|    0|    0|    0|    11073|     9787|     5535|     2513|     1828|     3731|    2306|      12|      50|     300|    3738|      66|                         0|\n| 12|   260000|  2|        1|       2| 51|    0|    0|    0|    0|    0|    2|    12261|    21670|     9966|     8517|    22287|    13668|   21818|    9966|    8583|   22301|       0|    3640|                         0|\n| 13|   630000|  2|        2|       2| 41|    0|    0|    0|    0|    0|    0|    12137|     6500|     6500|     6500|     6500|     2870|    1000|    6500|    6500|    6500|    2870|       0|                         0|\n| 14|    70000|  1|        2|       2| 30|    1|    2|    2|    0|    0|    2|    65802|    67369|    65701|    66782|    36137|    36894|    3200|       0|    3000|    3000|    1500|       0|                         1|\n| 15|   250000|  1|        1|       2| 29|    0|    0|    0|    0|    0|    0|    70887|    67060|    63561|    59696|    56875|    55512|    3000|    3000|    3000|    3000|    3000|    3000|                         0|\n| 16|    50000|  2|        3|       3| 23|    1|    2|    0|    0|    0|    0|    50614|    29173|    28116|    28771|    29531|    30211|       0|    1500|    1100|    1200|    1300|    1100|                         0|\n| 17|    20000|  1|        1|       2| 24|    0|    0|    2|    2|    2|    2|    15376|    18010|    17428|    18338|    17905|    19104|    3200|       0|    1500|       0|    1650|       0|                         1|\n| 18|   320000|  1|        1|       1| 49|    0|    0|    0|    0|    0|    0|   253286|   246536|   194663|    70074|     5856|   195599|   10358|   10000|   75940|   20000|  195599|   50000|                         0|\n| 19|   360000|  2|        1|       1| 49|    1|    0|    0|    0|    0|    0|        0|        0|        0|        0|        0|        0|       0|       0|       0|       0|       0|       0|                         0|\n| 20|   180000|  2|        1|       2| 29|    1|    0|    0|    0|    0|    0|        0|        0|        0|        0|        0|        0|       0|       0|       0|       0|       0|       0|                         0|\n+---+---------+---+---------+--------+---+-----+-----+-----+-----+-----+-----+---------+---------+---------+---------+---------+---------+--------+--------+--------+--------+--------+--------+--------------------------+\nonly showing top 20 rows\n\n"
     ]
    }
   ],
   "source": [
    "credit.show()"
   ]
  },
  {
   "cell_type": "code",
   "execution_count": 0,
   "metadata": {
    "application/vnd.databricks.v1+cell": {
     "cellMetadata": {
      "byteLimit": 2048000,
      "rowLimit": 10000
     },
     "inputWidgets": {},
     "nuid": "4eecbb8f-3fa4-419b-a74a-ff82dafeb8d7",
     "showTitle": false,
     "tableResultSettingsMap": {},
     "title": ""
    }
   },
   "outputs": [
    {
     "output_type": "stream",
     "name": "stdout",
     "output_type": "stream",
     "text": [
      "root\n |-- ID: string (nullable = true)\n |-- LIMIT_BAL: string (nullable = true)\n |-- SEX: string (nullable = true)\n |-- EDUCATION: string (nullable = true)\n |-- MARRIAGE: string (nullable = true)\n |-- AGE: string (nullable = true)\n |-- PAY_0: string (nullable = true)\n |-- PAY_2: string (nullable = true)\n |-- PAY_3: string (nullable = true)\n |-- PAY_4: string (nullable = true)\n |-- PAY_5: string (nullable = true)\n |-- PAY_6: string (nullable = true)\n |-- BILL_AMT1: string (nullable = true)\n |-- BILL_AMT2: string (nullable = true)\n |-- BILL_AMT3: string (nullable = true)\n |-- BILL_AMT4: string (nullable = true)\n |-- BILL_AMT5: string (nullable = true)\n |-- BILL_AMT6: string (nullable = true)\n |-- PAY_AMT1: string (nullable = true)\n |-- PAY_AMT2: string (nullable = true)\n |-- PAY_AMT3: string (nullable = true)\n |-- PAY_AMT4: string (nullable = true)\n |-- PAY_AMT5: string (nullable = true)\n |-- PAY_AMT6: string (nullable = true)\n |-- default payment next month: string (nullable = true)\n\n"
     ]
    }
   ],
   "source": [
    "credit.printSchema()\n",
    "\n"
   ]
  },
  {
   "cell_type": "markdown",
   "metadata": {
    "application/vnd.databricks.v1+cell": {
     "cellMetadata": {},
     "inputWidgets": {},
     "nuid": "39dcaa20-f287-4c76-afde-1283c9e54536",
     "showTitle": false,
     "tableResultSettingsMap": {},
     "title": ""
    }
   },
   "source": [
    "CASTING ALL NUMERIC DATA TO DOUBLE DATA TYPE FROM STRING\n"
   ]
  },
  {
   "cell_type": "code",
   "execution_count": 0,
   "metadata": {
    "application/vnd.databricks.v1+cell": {
     "cellMetadata": {
      "byteLimit": 2048000,
      "rowLimit": 10000
     },
     "inputWidgets": {},
     "nuid": "08beea41-a41c-415e-89d8-d1925cf0030e",
     "showTitle": false,
     "tableResultSettingsMap": {},
     "title": ""
    }
   },
   "outputs": [],
   "source": [
    "from pyspark.sql.functions import col\n",
    "\n",
    "numeric_columns = [\n",
    "    'LIMIT_BAL', 'SEX', 'EDUCATION', 'MARRIAGE', 'AGE',\n",
    "    'PAY_0', 'PAY_2', 'PAY_3', 'PAY_4', 'PAY_5', 'PAY_6',\n",
    "    'BILL_AMT1', 'BILL_AMT2', 'BILL_AMT3', 'BILL_AMT4', 'BILL_AMT5', 'BILL_AMT6',\n",
    "    'PAY_AMT1', 'PAY_AMT2', 'PAY_AMT3', 'PAY_AMT4', 'PAY_AMT5', 'PAY_AMT6',\n",
    "    'default payment next month'\n",
    "]\n",
    "\n",
    "credit = credit.select([col(c).cast(\"double\") if c in numeric_columns else col(c) for c in credit.columns])\n"
   ]
  },
  {
   "cell_type": "code",
   "execution_count": 0,
   "metadata": {
    "application/vnd.databricks.v1+cell": {
     "cellMetadata": {
      "byteLimit": 2048000,
      "rowLimit": 10000
     },
     "inputWidgets": {},
     "nuid": "8b7ea33a-0488-4991-9f33-e0c4f1d0ebf8",
     "showTitle": false,
     "tableResultSettingsMap": {},
     "title": ""
    }
   },
   "outputs": [],
   "source": [
    "# Optional: filter out invalid education/marriage values\n",
    "credit = credit.filter((col(\"EDUCATION\").isin(1.0, 2.0, 3.0, 4.0)) & (col(\"MARRIAGE\").isin(1.0, 2.0, 3.0)))"
   ]
  },
  {
   "cell_type": "code",
   "execution_count": 0,
   "metadata": {
    "application/vnd.databricks.v1+cell": {
     "cellMetadata": {
      "byteLimit": 2048000,
      "rowLimit": 10000
     },
     "inputWidgets": {},
     "nuid": "832e2c46-6888-4a4e-81fa-4f8bc51bcf76",
     "showTitle": false,
     "tableResultSettingsMap": {},
     "title": ""
    }
   },
   "outputs": [
    {
     "output_type": "stream",
     "name": "stdout",
     "output_type": "stream",
     "text": [
      "+---+---------+---+---------+--------+---+-----+-----+-----+-----+-----+-----+---------+---------+---------+---------+---------+---------+--------+--------+--------+--------+--------+--------+--------------------------+\n| ID|LIMIT_BAL|SEX|EDUCATION|MARRIAGE|AGE|PAY_0|PAY_2|PAY_3|PAY_4|PAY_5|PAY_6|BILL_AMT1|BILL_AMT2|BILL_AMT3|BILL_AMT4|BILL_AMT5|BILL_AMT6|PAY_AMT1|PAY_AMT2|PAY_AMT3|PAY_AMT4|PAY_AMT5|PAY_AMT6|default payment next month|\n+---+---------+---+---------+--------+---+-----+-----+-----+-----+-----+-----+---------+---------+---------+---------+---------+---------+--------+--------+--------+--------+--------+--------+--------------------------+\n|  0|        0|  0|        0|       0|  0|    0|    0|    0|    0|    0|    0|        0|        0|        0|        0|        0|        0|       0|       0|       0|       0|       0|       0|                         0|\n+---+---------+---+---------+--------+---+-----+-----+-----+-----+-----+-----+---------+---------+---------+---------+---------+---------+--------+--------+--------+--------+--------+--------+--------------------------+\n\n"
     ]
    }
   ],
   "source": [
    "#CHECKING HOW MANY NULL VALUES EXIST PER COLUMN\n",
    "from pyspark.sql.functions import col, sum as _sum, when\n",
    "\n",
    "null_counts = credit.select([\n",
    "    _sum(when(col(c).isNull(), 1).otherwise(0)).alias(c)\n",
    "    for c in credit.columns\n",
    "])\n",
    "\n",
    "null_counts.show()\n"
   ]
  },
  {
   "cell_type": "markdown",
   "metadata": {
    "application/vnd.databricks.v1+cell": {
     "cellMetadata": {},
     "inputWidgets": {},
     "nuid": "c80ed483-2b1f-464f-b684-485992c53b31",
     "showTitle": false,
     "tableResultSettingsMap": {},
     "title": ""
    }
   },
   "source": [
    "total number of null values = 0"
   ]
  },
  {
   "cell_type": "markdown",
   "metadata": {
    "application/vnd.databricks.v1+cell": {
     "cellMetadata": {},
     "inputWidgets": {},
     "nuid": "65d538e0-bf5c-4263-8dd1-c834bfd1f8ee",
     "showTitle": false,
     "tableResultSettingsMap": {},
     "title": ""
    }
   },
   "source": [
    "Feature Engineering"
   ]
  },
  {
   "cell_type": "code",
   "execution_count": 0,
   "metadata": {
    "application/vnd.databricks.v1+cell": {
     "cellMetadata": {
      "byteLimit": 2048000,
      "rowLimit": 10000
     },
     "inputWidgets": {},
     "nuid": "89432e6f-25f4-44b0-82f0-62bb13038292",
     "showTitle": false,
     "tableResultSettingsMap": {},
     "title": ""
    }
   },
   "outputs": [],
   "source": [
    "from pyspark.sql.functions import sum as _sum, expr\n",
    "\n",
    "credit = credit.withColumn(\"TOTAL_BILL\", \n",
    "                           col(\"BILL_AMT1\") + col(\"BILL_AMT2\") + col(\"BILL_AMT3\") +\n",
    "                           col(\"BILL_AMT4\") + col(\"BILL_AMT5\") + col(\"BILL_AMT6\"))\n",
    "\n",
    "credit = credit.withColumn(\"TOTAL_PAY\", \n",
    "                           col(\"PAY_AMT1\") + col(\"PAY_AMT2\") + col(\"PAY_AMT3\") +\n",
    "                           col(\"PAY_AMT4\") + col(\"PAY_AMT5\") + col(\"PAY_AMT6\"))\n",
    "\n",
    "credit = credit.withColumn(\"PAY_RATIO\", expr(\"case when TOTAL_BILL > 0 then TOTAL_PAY / TOTAL_BILL else 0 end\"))\n"
   ]
  },
  {
   "cell_type": "markdown",
   "metadata": {
    "application/vnd.databricks.v1+cell": {
     "cellMetadata": {},
     "inputWidgets": {},
     "nuid": "0fe4c68b-8403-467c-a95b-eddc1186f073",
     "showTitle": false,
     "tableResultSettingsMap": {},
     "title": ""
    }
   },
   "source": [
    "SKEWNESS CHECK"
   ]
  },
  {
   "cell_type": "code",
   "execution_count": 0,
   "metadata": {
    "application/vnd.databricks.v1+cell": {
     "cellMetadata": {
      "byteLimit": 2048000,
      "rowLimit": 10000
     },
     "inputWidgets": {},
     "nuid": "3c0326ce-65d8-43af-bde7-807780e0dcd8",
     "showTitle": false,
     "tableResultSettingsMap": {},
     "title": ""
    }
   },
   "outputs": [
    {
     "output_type": "stream",
     "name": "stdout",
     "output_type": "stream",
     "text": [
      "+----------------+------------------+------------------+------------------+------------------+------------------+-----------------+-----------------+------------------+------------------+------------------+------------------+------------------+------------------+------------------+-----------------+------------------+\n|  LIMIT_BAL_skew|          AGE_skew|    BILL_AMT1_skew|    BILL_AMT2_skew|    BILL_AMT3_skew|    BILL_AMT4_skew|   BILL_AMT5_skew|   BILL_AMT6_skew|     PAY_AMT1_skew|     PAY_AMT2_skew|     PAY_AMT3_skew|     PAY_AMT4_skew|     PAY_AMT5_skew|     PAY_AMT6_skew|   TOTAL_BILL_skew|   TOTAL_PAY_skew|    PAY_RATIO_skew|\n+----------------+------------------+------------------+------------------+------------------+------------------+-----------------+-----------------+------------------+------------------+------------------+------------------+------------------+------------------+------------------+-----------------+------------------+\n|0.99279955637722|0.7372720418203172|2.6737444387042846|2.7165573027561316|3.1065291848260084|2.8282462227472265|2.880019952149267|2.852760207155198|14.771835457203963|30.627709860834436|17.418183084092693|12.931264864042731|11.191488220298542|10.819124178295116|2.7421021054929873|14.77445864374987|114.65536500691422|\n+----------------+------------------+------------------+------------------+------------------+------------------+-----------------+-----------------+------------------+------------------+------------------+------------------+------------------+------------------+------------------+-----------------+------------------+\n\n"
     ]
    }
   ],
   "source": [
    "from pyspark.sql.functions import skewness\n",
    "\n",
    "columns_to_check = [\n",
    "    'LIMIT_BAL', 'AGE',\n",
    "    'BILL_AMT1', 'BILL_AMT2', 'BILL_AMT3', \n",
    "    'BILL_AMT4', 'BILL_AMT5', 'BILL_AMT6',\n",
    "    'PAY_AMT1', 'PAY_AMT2', 'PAY_AMT3', \n",
    "    'PAY_AMT4', 'PAY_AMT5', 'PAY_AMT6'\n",
    "]\n",
    "\n",
    "# Optional: include engineered features if already created\n",
    "columns_to_check += ['TOTAL_BILL', 'TOTAL_PAY', 'PAY_RATIO']\n",
    "\n",
    "credit.select([skewness(col(c)).alias(c + \"_skew\") for c in columns_to_check]).show()\n"
   ]
  },
  {
   "cell_type": "markdown",
   "metadata": {
    "application/vnd.databricks.v1+cell": {
     "cellMetadata": {},
     "inputWidgets": {},
     "nuid": "73c12b7f-afd2-422c-be56-ef31dbda35e4",
     "showTitle": false,
     "tableResultSettingsMap": {},
     "title": ""
    }
   },
   "source": [
    "SKEWNESS ANALYSIS\n",
    "\n",
    "LIMIT_BAL\t~0.99\tModerately right-skewed\n",
    "AGE\t~0.73\tSlight right-skew\n",
    "BILL_AMT1-6\t~2.6 – 3.1\tHighly right-skewed\n",
    "PAY_AMT1-6\t~10 – 30 \tExtremely right-skewed\n",
    "TOTAL_BILL\t~2.74\tHighly right-skewed\n",
    "TOTAL_PAY\t~14.77\tExtremely right-skewed\n",
    "PAY_RATIO\t114.65\tExtremely right-skewed"
   ]
  },
  {
   "cell_type": "markdown",
   "metadata": {
    "application/vnd.databricks.v1+cell": {
     "cellMetadata": {},
     "inputWidgets": {},
     "nuid": "cd18577a-f62d-4d0a-b476-b3e8fa420112",
     "showTitle": false,
     "tableResultSettingsMap": {},
     "title": ""
    }
   },
   "source": [
    "SINCE WE WOULD REQUIRE ORIGINAL DATA FOR POWER BI IMPLEMENTATION , NOT ADDING NON SKEW VALUES "
   ]
  },
  {
   "cell_type": "code",
   "execution_count": 0,
   "metadata": {
    "application/vnd.databricks.v1+cell": {
     "cellMetadata": {
      "byteLimit": 2048000,
      "rowLimit": 10000
     },
     "inputWidgets": {},
     "nuid": "b896b585-c62b-489b-9cc2-a2b675ad1b22",
     "showTitle": false,
     "tableResultSettingsMap": {},
     "title": ""
    }
   },
   "outputs": [],
   "source": [
    "credit = credit.dropna()"
   ]
  },
  {
   "cell_type": "code",
   "execution_count": 0,
   "metadata": {
    "application/vnd.databricks.v1+cell": {
     "cellMetadata": {
      "byteLimit": 2048000,
      "rowLimit": 10000
     },
     "inputWidgets": {},
     "nuid": "be019f37-cf2a-446c-a433-e20aa0b2f5bb",
     "showTitle": false,
     "tableResultSettingsMap": {},
     "title": ""
    }
   },
   "outputs": [],
   "source": [
    "credit = credit.filter(credit['LIMIT_BAL'] >= 10000)\n",
    "\n"
   ]
  },
  {
   "cell_type": "code",
   "execution_count": 0,
   "metadata": {
    "application/vnd.databricks.v1+cell": {
     "cellMetadata": {
      "byteLimit": 2048000,
      "rowLimit": 10000
     },
     "inputWidgets": {},
     "nuid": "1d2ab8b8-9c01-4cd6-8f99-9b45d4124765",
     "showTitle": false,
     "tableResultSettingsMap": {},
     "title": ""
    }
   },
   "outputs": [
    {
     "output_type": "stream",
     "name": "stdout",
     "output_type": "stream",
     "text": [
      "+---+---------+---+---------+--------+----+-----+-----+-----+-----+-----+-----+---------+---------+---------+---------+---------+---------+--------+--------+--------+--------+--------+--------+--------------------------+----------+---------+--------------------+\n| ID|LIMIT_BAL|SEX|EDUCATION|MARRIAGE| AGE|PAY_0|PAY_2|PAY_3|PAY_4|PAY_5|PAY_6|BILL_AMT1|BILL_AMT2|BILL_AMT3|BILL_AMT4|BILL_AMT5|BILL_AMT6|PAY_AMT1|PAY_AMT2|PAY_AMT3|PAY_AMT4|PAY_AMT5|PAY_AMT6|default payment next month|TOTAL_BILL|TOTAL_PAY|           PAY_RATIO|\n+---+---------+---+---------+--------+----+-----+-----+-----+-----+-----+-----+---------+---------+---------+---------+---------+---------+--------+--------+--------+--------+--------+--------+--------------------------+----------+---------+--------------------+\n|  1|  20000.0|2.0|      2.0|     1.0|24.0|  2.0|  2.0|  0.0|  0.0|  0.0|  0.0|   3913.0|   3102.0|    689.0|      0.0|      0.0|      0.0|     0.0|   689.0|     0.0|     0.0|     0.0|     0.0|                       1.0|    7704.0|    689.0| 0.08943406022845275|\n|  2| 120000.0|2.0|      2.0|     2.0|26.0|  0.0|  2.0|  0.0|  0.0|  0.0|  2.0|   2682.0|   1725.0|   2682.0|   3272.0|   3455.0|   3261.0|     0.0|  1000.0|  1000.0|  1000.0|     0.0|  2000.0|                       1.0|   17077.0|   5000.0| 0.29279147391227967|\n|  3|  90000.0|2.0|      2.0|     2.0|34.0|  0.0|  0.0|  0.0|  0.0|  0.0|  0.0|  29239.0|  14027.0|  13559.0|  14331.0|  14948.0|  15549.0|  1518.0|  1500.0|  1000.0|  1000.0|  1000.0|  5000.0|                       0.0|  101653.0|  11018.0| 0.10838834072776997|\n|  4|  50000.0|2.0|      2.0|     1.0|37.0|  0.0|  0.0|  0.0|  0.0|  0.0|  0.0|  46990.0|  48233.0|  49291.0|  28314.0|  28959.0|  29547.0|  2000.0|  2019.0|  1200.0|  1100.0|  1069.0|  1000.0|                       0.0|  231334.0|   8388.0| 0.03625926150068732|\n|  5|  50000.0|1.0|      2.0|     1.0|57.0|  0.0|  0.0|  0.0|  0.0|  0.0|  0.0|   8617.0|   5670.0|  35835.0|  20940.0|  19146.0|  19131.0|  2000.0| 36681.0| 10000.0|  9000.0|   689.0|   679.0|                       0.0|  109339.0|  59049.0|  0.5400543264525924|\n|  6|  50000.0|1.0|      1.0|     2.0|37.0|  0.0|  0.0|  0.0|  0.0|  0.0|  0.0|  64400.0|  57069.0|  57608.0|  19394.0|  19619.0|  20024.0|  2500.0|  1815.0|   657.0|  1000.0|  1000.0|   800.0|                       0.0|  238114.0|   7772.0|0.032639827981555056|\n|  7| 500000.0|1.0|      1.0|     2.0|29.0|  0.0|  0.0|  0.0|  0.0|  0.0|  0.0| 367965.0| 412023.0| 445007.0| 542653.0| 483003.0| 473944.0| 55000.0| 40000.0| 38000.0| 20239.0| 13750.0| 13770.0|                       0.0| 2724595.0| 180759.0| 0.06634343819907179|\n|  8| 100000.0|2.0|      2.0|     2.0|23.0|  0.0|  0.0|  0.0|  0.0|  0.0|  0.0|  11876.0|    380.0|    601.0|    221.0|   -159.0|    567.0|   380.0|   601.0|     0.0|   581.0|  1687.0|  1542.0|                       0.0|   13486.0|   4791.0|  0.3552573038706807|\n|  9| 140000.0|2.0|      3.0|     1.0|28.0|  0.0|  0.0|  2.0|  0.0|  0.0|  0.0|  11285.0|  14096.0|  12108.0|  12211.0|  11793.0|   3719.0|  3329.0|     0.0|   432.0|  1000.0|  1000.0|  1000.0|                       0.0|   65212.0|   6761.0| 0.10367723731828497|\n| 10|  20000.0|1.0|      3.0|     2.0|35.0|  0.0|  0.0|  0.0|  0.0|  0.0|  0.0|      0.0|      0.0|      0.0|      0.0|  13007.0|  13912.0|     0.0|     0.0|     0.0| 13007.0|  1122.0|     0.0|                       0.0|   26919.0|  14129.0|  0.5248709090233664|\n| 11| 200000.0|2.0|      3.0|     2.0|34.0|  0.0|  0.0|  2.0|  0.0|  0.0|  0.0|  11073.0|   9787.0|   5535.0|   2513.0|   1828.0|   3731.0|  2306.0|    12.0|    50.0|   300.0|  3738.0|    66.0|                       0.0|   34467.0|   6472.0|   0.187773812632373|\n| 12| 260000.0|2.0|      1.0|     2.0|51.0|  0.0|  0.0|  0.0|  0.0|  0.0|  2.0|  12261.0|  21670.0|   9966.0|   8517.0|  22287.0|  13668.0| 21818.0|  9966.0|  8583.0| 22301.0|     0.0|  3640.0|                       0.0|   88369.0|  66308.0|  0.7503536307981306|\n| 13| 630000.0|2.0|      2.0|     2.0|41.0|  0.0|  0.0|  0.0|  0.0|  0.0|  0.0|  12137.0|   6500.0|   6500.0|   6500.0|   6500.0|   2870.0|  1000.0|  6500.0|  6500.0|  6500.0|  2870.0|     0.0|                       0.0|   41007.0|  23370.0|  0.5699026995391031|\n| 14|  70000.0|1.0|      2.0|     2.0|30.0|  1.0|  2.0|  2.0|  0.0|  0.0|  2.0|  65802.0|  67369.0|  65701.0|  66782.0|  36137.0|  36894.0|  3200.0|     0.0|  3000.0|  3000.0|  1500.0|     0.0|                       1.0|  338685.0|  10700.0| 0.03159277795001255|\n| 15| 250000.0|1.0|      1.0|     2.0|29.0|  0.0|  0.0|  0.0|  0.0|  0.0|  0.0|  70887.0|  67060.0|  63561.0|  59696.0|  56875.0|  55512.0|  3000.0|  3000.0|  3000.0|  3000.0|  3000.0|  3000.0|                       0.0|  373591.0|  18000.0| 0.04818103219831313|\n| 16|  50000.0|2.0|      3.0|     3.0|23.0|  1.0|  2.0|  0.0|  0.0|  0.0|  0.0|  50614.0|  29173.0|  28116.0|  28771.0|  29531.0|  30211.0|     0.0|  1500.0|  1100.0|  1200.0|  1300.0|  1100.0|                       0.0|  196416.0|   6200.0| 0.03156565656565657|\n| 17|  20000.0|1.0|      1.0|     2.0|24.0|  0.0|  0.0|  2.0|  2.0|  2.0|  2.0|  15376.0|  18010.0|  17428.0|  18338.0|  17905.0|  19104.0|  3200.0|     0.0|  1500.0|     0.0|  1650.0|     0.0|                       1.0|  106161.0|   6350.0|0.059814809581673116|\n| 18| 320000.0|1.0|      1.0|     1.0|49.0|  0.0|  0.0|  0.0|  0.0|  0.0|  0.0| 253286.0| 246536.0| 194663.0|  70074.0|   5856.0| 195599.0| 10358.0| 10000.0| 75940.0| 20000.0|195599.0| 50000.0|                       0.0|  966014.0| 361897.0| 0.37462914616144277|\n| 19| 360000.0|2.0|      1.0|     1.0|49.0|  1.0|  0.0|  0.0|  0.0|  0.0|  0.0|      0.0|      0.0|      0.0|      0.0|      0.0|      0.0|     0.0|     0.0|     0.0|     0.0|     0.0|     0.0|                       0.0|       0.0|      0.0|                 0.0|\n| 20| 180000.0|2.0|      1.0|     2.0|29.0|  1.0|  0.0|  0.0|  0.0|  0.0|  0.0|      0.0|      0.0|      0.0|      0.0|      0.0|      0.0|     0.0|     0.0|     0.0|     0.0|     0.0|     0.0|                       0.0|       0.0|      0.0|                 0.0|\n+---+---------+---+---------+--------+----+-----+-----+-----+-----+-----+-----+---------+---------+---------+---------+---------+---------+--------+--------+--------+--------+--------+--------+--------------------------+----------+---------+--------------------+\nonly showing top 20 rows\n\n"
     ]
    }
   ],
   "source": [
    "credit.show()"
   ]
  },
  {
   "cell_type": "code",
   "execution_count": 0,
   "metadata": {
    "application/vnd.databricks.v1+cell": {
     "cellMetadata": {
      "byteLimit": 2048000,
      "rowLimit": 10000
     },
     "inputWidgets": {},
     "nuid": "70ed8a38-383f-4deb-a3df-cac2daa11fc4",
     "showTitle": false,
     "tableResultSettingsMap": {},
     "title": ""
    }
   },
   "outputs": [
    {
     "output_type": "execute_result",
     "data": {
      "text/plain": [
       "29601"
      ]
     },
     "execution_count": 13,
     "metadata": {},
     "output_type": "execute_result"
    }
   ],
   "source": [
    "credit.count()"
   ]
  },
  {
   "cell_type": "markdown",
   "metadata": {
    "application/vnd.databricks.v1+cell": {
     "cellMetadata": {},
     "inputWidgets": {},
     "nuid": "966473f1-1765-4fda-981c-d4d177255f6d",
     "showTitle": false,
     "tableResultSettingsMap": {},
     "title": ""
    }
   },
   "source": [
    "FOR BETTER READABILITY"
   ]
  },
  {
   "cell_type": "code",
   "execution_count": 0,
   "metadata": {
    "application/vnd.databricks.v1+cell": {
     "cellMetadata": {
      "byteLimit": 2048000,
      "rowLimit": 10000
     },
     "inputWidgets": {},
     "nuid": "595ca734-4a01-4666-b56b-396daa0d87f8",
     "showTitle": false,
     "tableResultSettingsMap": {},
     "title": ""
    }
   },
   "outputs": [],
   "source": [
    "credit = credit.withColumnRenamed(\"LIMIT_BAL\", \"Credit_Limit\") \\\n",
    "               .withColumnRenamed(\"SEX\", \"Gender\") \\\n",
    "               .withColumnRenamed(\"EDUCATION\", \"Education_Level\") \\\n",
    "               .withColumnRenamed(\"MARRIAGE\", \"Marital_Status\") \\\n",
    "               .withColumnRenamed(\"AGE\", \"Age\") \\\n",
    "               .withColumnRenamed(\"default payment next month\", \"Default_Status\")\n"
   ]
  },
  {
   "cell_type": "code",
   "execution_count": 0,
   "metadata": {
    "application/vnd.databricks.v1+cell": {
     "cellMetadata": {
      "byteLimit": 2048000,
      "rowLimit": 10000
     },
     "inputWidgets": {},
     "nuid": "59b2657e-ad92-43f2-b30a-2edc6dd53023",
     "showTitle": false,
     "tableResultSettingsMap": {},
     "title": ""
    }
   },
   "outputs": [],
   "source": [
    "credit.write.mode(\"overwrite\").option(\"header\", True).csv(\"/mnt/creditcard1/processed/transformed_data.csv\")\n"
   ]
  }
 ],
 "metadata": {
  "application/vnd.databricks.v1+notebook": {
   "computePreferences": null,
   "dashboards": [],
   "environmentMetadata": {
    "base_environment": "",
    "environment_version": "1"
   },
   "inputWidgetPreferences": null,
   "language": "python",
   "notebookMetadata": {
    "mostRecentlyExecutedCommandWithImplicitDF": {
     "commandId": 2271184000881103,
     "dataframes": [
      "_sqldf"
     ]
    },
    "pythonIndentUnit": 4
   },
   "notebookName": "Databricks - ADF Pipeline",
   "widgets": {}
  },
  "language_info": {
   "name": "python"
  }
 },
 "nbformat": 4,
 "nbformat_minor": 0
}